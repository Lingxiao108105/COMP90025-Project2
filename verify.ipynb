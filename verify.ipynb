{
 "cells": [
  {
   "cell_type": "code",
   "execution_count": 1,
   "id": "92e738cc-e1c7-4a18-a928-8c1d4fcfe1d5",
   "metadata": {},
   "outputs": [],
   "source": [
    "import random\n",
    "import networkx as nx\n",
    "from itertools import combinations "
   ]
  },
  {
   "cell_type": "code",
   "execution_count": 2,
   "id": "75cd0bb8-75d8-4845-a338-af39df248710",
   "metadata": {},
   "outputs": [],
   "source": [
    "# create connected graph and save it to the file_name\n",
    "def create_input(n,file_name):\n",
    "    # create connected graph\n",
    "    G = nx.erdos_renyi_graph(n, 0.1, seed=None, directed=False)\n",
    "    while(nx.is_connected(G) == False):\n",
    "        G = nx.erdos_renyi_graph(n, 0.1, seed=None, directed=False)\n",
    "    \n",
    "    # change to input file\n",
    "    input_data = f\"{n}\\n\"\n",
    "    for edge in G.edges:\n",
    "        input_data += f\"{edge[0]} {edge[1]}\\n\"\n",
    "\n",
    "    with open(file_name,'w')as file:\n",
    "            file.write(input_data)"
   ]
  },
  {
   "cell_type": "code",
   "execution_count": 3,
   "id": "ac4ba735-d464-49e9-a87e-a8207128da68",
   "metadata": {},
   "outputs": [],
   "source": [
    "# create_input(7,\"input/input10.txt\")"
   ]
  },
  {
   "cell_type": "code",
   "execution_count": 4,
   "id": "998bfe66-224f-465d-a12f-8a3c6d9cb061",
   "metadata": {},
   "outputs": [],
   "source": [
    "# test whether the input vertices is a valid vertex cover\n",
    "def valid_vertex_cover(vertices, adjacent_matrix):\n",
    "    n = len(adjacent_matrix)\n",
    "    edge_touched = [[0 for j in range(n)] for i in range(n)]\n",
    "    \n",
    "    for vertex in vertices:\n",
    "        for i in range(n):\n",
    "            edge_touched[vertex][i] = adjacent_matrix[vertex][i]\n",
    "            edge_touched[i][vertex] = adjacent_matrix[vertex][i]\n",
    "            \n",
    "    if edge_touched == adjacent_matrix:\n",
    "        return True\n",
    "    else:\n",
    "        return False"
   ]
  },
  {
   "cell_type": "code",
   "execution_count": 5,
   "id": "a5ae82d7-9c8d-421f-a25b-5bf9da87e2e9",
   "metadata": {},
   "outputs": [],
   "source": [
    "def read_adjacent_matrix_from_file(file_name):\n",
    "    with open(file_name,'r')as file:\n",
    "        lines = file.readlines()\n",
    "        # remove newline\n",
    "        lines = [i.replace(\"\\n\", \"\") for i in lines]\n",
    "\n",
    "        # find number of nodes\n",
    "        n = int(lines[0])\n",
    "        adjacent_matrix = [[0 for j in range(n)] for i in range(n)]\n",
    "        for i in range(1,len(lines)):\n",
    "            coord = lines[i].split(\" \")\n",
    "            x = int(coord[0])\n",
    "            y = int(coord[1])\n",
    "            adjacent_matrix[x][y] = 1\n",
    "            adjacent_matrix[y][x] = 1\n",
    "\n",
    "    return adjacent_matrix"
   ]
  },
  {
   "cell_type": "code",
   "execution_count": 6,
   "id": "b674abca-f3c8-47fe-aae4-0a0a794b54c5",
   "metadata": {},
   "outputs": [],
   "source": [
    "# find the minimum vertex cover among a graph\n",
    "def minimum_vertex_cover(adjacent_matrix):\n",
    "    n = len(adjacent_matrix)\n",
    "    for i in range(1,n):\n",
    "        candidates = combinations(range(n), i)\n",
    "        for subset in candidates:\n",
    "            if valid_vertex_cover(subset, adjacent_matrix):\n",
    "                return i,subset\n",
    "            \n",
    "    # needs all nodes to cover\n",
    "    return n,range(n)\n",
    "        "
   ]
  },
  {
   "cell_type": "code",
   "execution_count": 7,
   "id": "2117c5ca-5041-49ad-9baa-2b1cf6fed5b8",
   "metadata": {},
   "outputs": [],
   "source": [
    "# read the graph from the file and find the minimum vertex cover of the graph\n",
    "def minimum_vertex_cover_from_file(file_name):\n",
    "    return minimum_vertex_cover(read_adjacent_matrix_from_file(file_name))"
   ]
  },
  {
   "cell_type": "code",
   "execution_count": 8,
   "id": "3942c6a6-6e76-4f57-a515-001154c17e88",
   "metadata": {},
   "outputs": [
    {
     "name": "stdout",
     "output_type": "stream",
     "text": [
      "(4, (0, 1, 2, 7))\n"
     ]
    }
   ],
   "source": [
    "# print the minimum vertex cover of the graph in the input file\n",
    "print(minimum_vertex_cover_from_file(\"input/input10.txt\"))"
   ]
  },
  {
   "cell_type": "code",
   "execution_count": 9,
   "id": "52e0f896-4151-4d51-8969-14c628a5c02f",
   "metadata": {},
   "outputs": [],
   "source": [
    "# check the output for my c program\n",
    "# vertices are a string contains the subset, vertices are split by blank symbol\n",
    "def check_valid_cover(vertices, file_name):\n",
    "    vertices = vertices.split(\" \");\n",
    "    vertices = [int(i) for i in vertices if i != \"\"]\n",
    "    adjacent_matrix = read_adjacent_matrix_from_file(file_name)\n",
    "    return valid_vertex_cover(vertices, adjacent_matrix)"
   ]
  },
  {
   "cell_type": "code",
   "execution_count": 10,
   "id": "4c32f98a-680b-482f-914b-14bd1c080d40",
   "metadata": {},
   "outputs": [
    {
     "data": {
      "text/plain": [
       "True"
      ]
     },
     "execution_count": 10,
     "metadata": {},
     "output_type": "execute_result"
    }
   ],
   "source": [
    "# check whether the vertex set is a vertex cover of the input\n",
    "check_valid_cover(\"0 4 5 8 9 12 17 19 20 21 22 24 \", \"input/input25.txt\")"
   ]
  },
  {
   "cell_type": "code",
   "execution_count": null,
   "id": "dbc434f6-c0eb-478b-9acf-5e244be42693",
   "metadata": {},
   "outputs": [],
   "source": []
  }
 ],
 "metadata": {
  "kernelspec": {
   "display_name": "Python 3 (ipykernel)",
   "language": "python",
   "name": "python3"
  },
  "language_info": {
   "codemirror_mode": {
    "name": "ipython",
    "version": 3
   },
   "file_extension": ".py",
   "mimetype": "text/x-python",
   "name": "python",
   "nbconvert_exporter": "python",
   "pygments_lexer": "ipython3",
   "version": "3.7.13"
  }
 },
 "nbformat": 4,
 "nbformat_minor": 5
}
